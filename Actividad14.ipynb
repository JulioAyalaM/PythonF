{
 "cells": [
  {
   "cell_type": "code",
   "execution_count": 7,
   "id": "b2138086",
   "metadata": {},
   "outputs": [
    {
     "data": {
      "text/html": [
       "<div>\n",
       "<style scoped>\n",
       "    .dataframe tbody tr th:only-of-type {\n",
       "        vertical-align: middle;\n",
       "    }\n",
       "\n",
       "    .dataframe tbody tr th {\n",
       "        vertical-align: top;\n",
       "    }\n",
       "\n",
       "    .dataframe thead th {\n",
       "        text-align: right;\n",
       "    }\n",
       "</style>\n",
       "<table border=\"1\" class=\"dataframe\">\n",
       "  <thead>\n",
       "    <tr style=\"text-align: right;\">\n",
       "      <th></th>\n",
       "      <th>Nombre</th>\n",
       "      <th>Edad</th>\n",
       "      <th>Salario</th>\n",
       "      <th>Genero</th>\n",
       "    </tr>\n",
       "  </thead>\n",
       "  <tbody>\n",
       "    <tr>\n",
       "      <th>0</th>\n",
       "      <td>Juan</td>\n",
       "      <td>29</td>\n",
       "      <td>18000</td>\n",
       "      <td>M</td>\n",
       "    </tr>\n",
       "    <tr>\n",
       "      <th>1</th>\n",
       "      <td>Elena</td>\n",
       "      <td>27</td>\n",
       "      <td>25000</td>\n",
       "      <td>F</td>\n",
       "    </tr>\n",
       "    <tr>\n",
       "      <th>2</th>\n",
       "      <td>Santiago</td>\n",
       "      <td>23</td>\n",
       "      <td>28000</td>\n",
       "      <td>M</td>\n",
       "    </tr>\n",
       "    <tr>\n",
       "      <th>3</th>\n",
       "      <td>Fernando</td>\n",
       "      <td>35</td>\n",
       "      <td>10500</td>\n",
       "      <td>M</td>\n",
       "    </tr>\n",
       "    <tr>\n",
       "      <th>4</th>\n",
       "      <td>Miriam</td>\n",
       "      <td>28</td>\n",
       "      <td>21000</td>\n",
       "      <td>F</td>\n",
       "    </tr>\n",
       "    <tr>\n",
       "      <th>5</th>\n",
       "      <td>Julio</td>\n",
       "      <td>30</td>\n",
       "      <td>27000</td>\n",
       "      <td>M</td>\n",
       "    </tr>\n",
       "  </tbody>\n",
       "</table>\n",
       "</div>"
      ],
      "text/plain": [
       "     Nombre  Edad  Salario Genero\n",
       "0      Juan    29    18000      M\n",
       "1     Elena    27    25000      F\n",
       "2  Santiago    23    28000      M\n",
       "3  Fernando    35    10500      M\n",
       "4    Miriam    28    21000      F\n",
       "5     Julio    30    27000      M"
      ]
     },
     "execution_count": 7,
     "metadata": {},
     "output_type": "execute_result"
    }
   ],
   "source": [
    "# \"Obtener la diferencia entre el salario más alto y el más bajo.\n",
    "\n",
    "import numpy as np\n",
    "import pandas as pd\n",
    "\n",
    "diccionario = {\n",
    "    \n",
    "    \"Nombre\":[\"Juan\",\"Elena\",\"Santiago\",\"Fernando\",\"Miriam\",\"Julio\"],\n",
    "    \"Edad\" : [29,27,23,35,28,30],\n",
    "    \"Salario\": [18000,25000,28000,10500,21000,27000],\n",
    "    \"Genero\": [\"M\",\"F\",\"M\",\"M\",\"F\",\"M\"]\n",
    "\n",
    "}\n",
    "\n",
    "datos=pd.DataFrame(diccionario)\n",
    "datos\n"
   ]
  },
  {
   "cell_type": "code",
   "execution_count": 8,
   "id": "77269ac6",
   "metadata": {},
   "outputs": [
    {
     "name": "stdout",
     "output_type": "stream",
     "text": [
      "El salario menor es  10500\n",
      "El salario mayor es  28000\n"
     ]
    }
   ],
   "source": [
    "#Obtener el valor minimo y maximo \n",
    "SalMinimo = datos[\"Salario\"].min()\n",
    "SalMaximo = datos[\"Salario\"].max()\n",
    "\n",
    "\n",
    "print(\"El salario menor es \", SalMinimo)\n",
    "print(\"El salario mayor es \", SalMaximo)"
   ]
  },
  {
   "cell_type": "code",
   "execution_count": 9,
   "id": "fcc5dd59",
   "metadata": {},
   "outputs": [
    {
     "name": "stdout",
     "output_type": "stream",
     "text": [
      "la diferencia es de  17500\n"
     ]
    }
   ],
   "source": [
    "#obtenemos la diferencia\n",
    "difSalarios = SalMaximo - SalMinimo\n",
    "\n",
    "print (\"la diferencia es de \", difSalarios )"
   ]
  },
  {
   "cell_type": "markdown",
   "id": "6ea5c155",
   "metadata": {},
   "source": [
    "# Actividad Avanzada"
   ]
  },
  {
   "cell_type": "code",
   "execution_count": 11,
   "id": "fad3dc26",
   "metadata": {},
   "outputs": [
    {
     "data": {
      "text/plain": [
       "count        6.000000\n",
       "mean     21583.333333\n",
       "std       6606.183972\n",
       "min      10500.000000\n",
       "25%      18750.000000\n",
       "50%      23000.000000\n",
       "75%      26500.000000\n",
       "max      28000.000000\n",
       "Name: Salario, dtype: float64"
      ]
     },
     "execution_count": 11,
     "metadata": {},
     "output_type": "execute_result"
    }
   ],
   "source": [
    "# Obtener los estadísticos descriptivos de los salarios. (media, mediana, desviación estándar, etc..\n",
    "\n",
    "datos[\"Salario\"].describe()\n",
    "\n"
   ]
  },
  {
   "cell_type": "code",
   "execution_count": null,
   "id": "c05a08a4",
   "metadata": {},
   "outputs": [],
   "source": []
  }
 ],
 "metadata": {
  "kernelspec": {
   "display_name": "Python 3",
   "language": "python",
   "name": "python3"
  },
  "language_info": {
   "codemirror_mode": {
    "name": "ipython",
    "version": 3
   },
   "file_extension": ".py",
   "mimetype": "text/x-python",
   "name": "python",
   "nbconvert_exporter": "python",
   "pygments_lexer": "ipython3",
   "version": "3.6.13"
  }
 },
 "nbformat": 4,
 "nbformat_minor": 5
}
