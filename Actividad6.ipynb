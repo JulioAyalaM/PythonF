{
 "cells": [
  {
   "cell_type": "markdown",
   "id": "268550ba",
   "metadata": {},
   "source": [
    "# Crea un algoritmo para hacer tu pasatiempo favorito\n"
   ]
  },
  {
   "cell_type": "markdown",
   "id": "621e1e12",
   "metadata": {},
   "source": [
    "# Jugar KOF (The king of fighters) online\n",
    "\n",
    "Paso 1: Encender la computadora\n",
    "\n",
    "Paso 2: Iniciar session en Windows\n",
    "\n",
    "Paso 3: Conectar el tablero arcade\n",
    "\n",
    "Paso 4: Abrir la aplicacion Fightcade 2\n",
    "\n",
    "Paso 5: Iniciar session con las credenciales correctas en FC \n",
    "\n",
    "Paso 6: buscar a un oponente\n",
    "\n",
    "Paso 7: Empieza el juego\n"
   ]
  },
  {
   "cell_type": "code",
   "execution_count": null,
   "id": "209499d3",
   "metadata": {},
   "outputs": [],
   "source": []
  }
 ],
 "metadata": {
  "kernelspec": {
   "display_name": "Python 3",
   "language": "python",
   "name": "python3"
  },
  "language_info": {
   "codemirror_mode": {
    "name": "ipython",
    "version": 3
   },
   "file_extension": ".py",
   "mimetype": "text/x-python",
   "name": "python",
   "nbconvert_exporter": "python",
   "pygments_lexer": "ipython3",
   "version": "3.6.13"
  }
 },
 "nbformat": 4,
 "nbformat_minor": 5
}
