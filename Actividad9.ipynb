{
 "cells": [
  {
   "cell_type": "markdown",
   "id": "6d8f1c53",
   "metadata": {},
   "source": [
    "# Cada compañero dirá un número. Los guardarás en un diccionario, junto con el nombre de tu pareja.\n",
    "\n",
    "# Luego imprimirán los valores del diccionario (nombre de la persona y número que dijo) (Usando un bucle for)\n",
    "\n",
    "# Al final imprimirán dos mensajes, mostrando el número más grande, y el número más pequeño que dijeron, sin el nombre del socio, sólo el número."
   ]
  },
  {
   "cell_type": "code",
   "execution_count": 1,
   "id": "414a2299",
   "metadata": {},
   "outputs": [
    {
     "data": {
      "text/plain": [
       "{'Miguel': 18,\n",
       " 'Edwin': 23,\n",
       " 'Erick': 28,\n",
       " 'Pedro': 16,\n",
       " 'Pau': 25,\n",
       " 'Liliana': 20,\n",
       " 'Marco': 25,\n",
       " 'Claudia': 21,\n",
       " 'Roland': 25,\n",
       " 'Gerardo': 9,\n",
       " 'Jonathan': 15,\n",
       " 'Paco': 13,\n",
       " 'Yolanda': 4,\n",
       " 'Julio': 28,\n",
       " 'Victor': 3,\n",
       " 'Gustavo': 8,\n",
       " 'Paulina': 25}"
      ]
     },
     "execution_count": 1,
     "metadata": {},
     "output_type": "execute_result"
    }
   ],
   "source": [
    "Diccionario = {\"Miguel\":18,\"Edwin\":23,\"Erick\":28,\"Pedro\":16,\"Pau\":25,\"Liliana\":20,\"Marco\":25,\"Claudia\":21,\"Roland\":25,\"Gerardo\":9 ,\"Jonathan\":15,\"Paco\":13,\"Yolanda\":4 ,\"Julio\":28,\"Victor\":3 ,\"Gustavo\":8 ,\"Paulina\":25}\n",
    "Diccionario\n"
   ]
  },
  {
   "cell_type": "code",
   "execution_count": 3,
   "id": "38d82b72",
   "metadata": {},
   "outputs": [
    {
     "name": "stdout",
     "output_type": "stream",
     "text": [
      "Nombre:  Miguel  Valor  18\n",
      "Nombre:  Edwin  Valor  23\n",
      "Nombre:  Erick  Valor  28\n",
      "Nombre:  Pedro  Valor  16\n",
      "Nombre:  Pau  Valor  25\n",
      "Nombre:  Liliana  Valor  20\n",
      "Nombre:  Marco  Valor  25\n",
      "Nombre:  Claudia  Valor  21\n",
      "Nombre:  Roland  Valor  25\n",
      "Nombre:  Gerardo  Valor  9\n",
      "Nombre:  Jonathan  Valor  15\n",
      "Nombre:  Paco  Valor  13\n",
      "Nombre:  Yolanda  Valor  4\n",
      "Nombre:  Julio  Valor  28\n",
      "Nombre:  Victor  Valor  3\n",
      "Nombre:  Gustavo  Valor  8\n",
      "Nombre:  Paulina  Valor  25\n"
     ]
    }
   ],
   "source": [
    "for k,v in Diccionario.items():\n",
    "    print(\"Nombre: \", k, \" Valor \", v)"
   ]
  },
  {
   "cell_type": "code",
   "execution_count": 7,
   "id": "135115d0",
   "metadata": {},
   "outputs": [
    {
     "data": {
      "text/plain": [
       "[18, 23, 28, 16, 25, 20, 25, 21, 25, 9, 15, 13, 4, 28, 3, 8, 25]"
      ]
     },
     "execution_count": 7,
     "metadata": {},
     "output_type": "execute_result"
    }
   ],
   "source": [
    "lista = list(Diccionario.values())\n",
    "lista\n"
   ]
  },
  {
   "cell_type": "code",
   "execution_count": 9,
   "id": "f243ace4",
   "metadata": {},
   "outputs": [
    {
     "data": {
      "text/plain": [
       "28"
      ]
     },
     "execution_count": 9,
     "metadata": {},
     "output_type": "execute_result"
    }
   ],
   "source": [
    "Maximo = max(lista)\n",
    "Minimo = min(lista)\n",
    "\n",
    "Maximo"
   ]
  },
  {
   "cell_type": "code",
   "execution_count": 10,
   "id": "90206e97",
   "metadata": {},
   "outputs": [
    {
     "data": {
      "text/plain": [
       "3"
      ]
     },
     "execution_count": 10,
     "metadata": {},
     "output_type": "execute_result"
    }
   ],
   "source": [
    "Minimo"
   ]
  },
  {
   "cell_type": "code",
   "execution_count": null,
   "id": "f1466edd",
   "metadata": {},
   "outputs": [],
   "source": []
  }
 ],
 "metadata": {
  "kernelspec": {
   "display_name": "Python 3",
   "language": "python",
   "name": "python3"
  },
  "language_info": {
   "codemirror_mode": {
    "name": "ipython",
    "version": 3
   },
   "file_extension": ".py",
   "mimetype": "text/x-python",
   "name": "python",
   "nbconvert_exporter": "python",
   "pygments_lexer": "ipython3",
   "version": "3.6.13"
  }
 },
 "nbformat": 4,
 "nbformat_minor": 5
}
