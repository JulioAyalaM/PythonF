{
 "cells": [
  {
   "cell_type": "markdown",
   "id": "f38cadba",
   "metadata": {},
   "source": [
    "# 1.- Crear una matriz 3x3 con valores de 0 a 8"
   ]
  },
  {
   "cell_type": "code",
   "execution_count": 1,
   "id": "0f0d5cec",
   "metadata": {},
   "outputs": [],
   "source": [
    "import numpy as np\n",
    "\n",
    "valores = np.arange(0,9)"
   ]
  },
  {
   "cell_type": "code",
   "execution_count": 2,
   "id": "63f56a9d",
   "metadata": {},
   "outputs": [
    {
     "data": {
      "text/plain": [
       "array([0, 1, 2, 3, 4, 5, 6, 7, 8])"
      ]
     },
     "execution_count": 2,
     "metadata": {},
     "output_type": "execute_result"
    }
   ],
   "source": [
    "valores"
   ]
  },
  {
   "cell_type": "code",
   "execution_count": 7,
   "id": "0677dd3c",
   "metadata": {},
   "outputs": [],
   "source": [
    "matriz = np.reshape(valores, (3,3) )"
   ]
  },
  {
   "cell_type": "code",
   "execution_count": 8,
   "id": "9bfedf6b",
   "metadata": {},
   "outputs": [
    {
     "data": {
      "text/plain": [
       "array([[0, 1, 2],\n",
       "       [3, 4, 5],\n",
       "       [6, 7, 8]])"
      ]
     },
     "execution_count": 8,
     "metadata": {},
     "output_type": "execute_result"
    }
   ],
   "source": [
    "matriz"
   ]
  },
  {
   "cell_type": "markdown",
   "id": "3312d435",
   "metadata": {},
   "source": [
    "# 2.- Crear una matriz identidad de 6x6"
   ]
  },
  {
   "cell_type": "code",
   "execution_count": 9,
   "id": "203693fb",
   "metadata": {},
   "outputs": [],
   "source": [
    "matriz2 = np.identity(6)"
   ]
  },
  {
   "cell_type": "code",
   "execution_count": 10,
   "id": "74ff2b01",
   "metadata": {},
   "outputs": [
    {
     "data": {
      "text/plain": [
       "array([[1., 0., 0., 0., 0., 0.],\n",
       "       [0., 1., 0., 0., 0., 0.],\n",
       "       [0., 0., 1., 0., 0., 0.],\n",
       "       [0., 0., 0., 1., 0., 0.],\n",
       "       [0., 0., 0., 0., 1., 0.],\n",
       "       [0., 0., 0., 0., 0., 1.]])"
      ]
     },
     "execution_count": 10,
     "metadata": {},
     "output_type": "execute_result"
    }
   ],
   "source": [
    "matriz2"
   ]
  },
  {
   "cell_type": "code",
   "execution_count": null,
   "id": "b1f26081",
   "metadata": {},
   "outputs": [],
   "source": []
  }
 ],
 "metadata": {
  "kernelspec": {
   "display_name": "Python 3",
   "language": "python",
   "name": "python3"
  },
  "language_info": {
   "codemirror_mode": {
    "name": "ipython",
    "version": 3
   },
   "file_extension": ".py",
   "mimetype": "text/x-python",
   "name": "python",
   "nbconvert_exporter": "python",
   "pygments_lexer": "ipython3",
   "version": "3.6.13"
  }
 },
 "nbformat": 4,
 "nbformat_minor": 5
}
