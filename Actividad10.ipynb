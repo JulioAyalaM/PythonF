{
 "cells": [
  {
   "cell_type": "markdown",
   "id": "5aac4aa4",
   "metadata": {},
   "source": [
    "# Crear un programa que permita al usuario ingresar los montos de  las compras de un cliente (se desconoce la cantidad de datos que se  cargarán, que pueden cambiar en cada ejecución), cortando el  ingreso de datos cuando el usuario ingresa el monto 0.\n",
    "\n",
    "# Si ingresa una cantidad negativa, no debe procesarse y se le debe  solicitar que ingrese una nueva cantidad. \n",
    "\n",
    "# Al ﬁnalizar, informar el  total a pagar teniendo en cuenta que, si las ventas superan el total  de 1000, se debe aplicar un 10% de descuento."
   ]
  },
  {
   "cell_type": "code",
   "execution_count": 13,
   "id": "d4577ea5",
   "metadata": {},
   "outputs": [
    {
     "name": "stdout",
     "output_type": "stream",
     "text": [
      "Ingrese precio del articulo -1\n",
      "entrada invalida, intente de nuevo\n",
      "Ingrese precio del articulo 3\n",
      "Ingrese precio del articulo 5\n",
      "Ingrese precio del articulo -6\n",
      "entrada invalida, intente de nuevo\n",
      "Ingrese precio del articulo 0\n",
      "El total de la venta es  8.0\n"
     ]
    }
   ],
   "source": [
    "lineaVenta = 0\n",
    "subtotalVenta = 0\n",
    "totalVenta = 0\n",
    "\n",
    "while True:\n",
    "\n",
    "    lineaVenta = float(input(\"Ingrese precio del articulo \"))\n",
    "    \n",
    "    if lineaVenta < 0: #en caso de capturar negativos \n",
    "        print(\"entrada invalida, intente de nuevo\")\n",
    "    elif lineaVenta > 0:\n",
    "        subtotalVenta += lineaVenta\n",
    "    else:\n",
    "        break\n",
    "        \n",
    "if subtotalVenta <= 1000:\n",
    "    totalVenta = subtotalVenta\n",
    "    print(\"El total de la venta es \", totalVenta )\n",
    "elif subtotalVenta > 1000:\n",
    "    totalVenta= subtotalVenta * 0.9\n",
    "    print(\"El subtotal es \", subtotalVenta, \" total con descuento \" , totalVenta )\n",
    "    \n"
   ]
  },
  {
   "cell_type": "code",
   "execution_count": null,
   "id": "f3522de9",
   "metadata": {},
   "outputs": [],
   "source": []
  }
 ],
 "metadata": {
  "kernelspec": {
   "display_name": "Python 3",
   "language": "python",
   "name": "python3"
  },
  "language_info": {
   "codemirror_mode": {
    "name": "ipython",
    "version": 3
   },
   "file_extension": ".py",
   "mimetype": "text/x-python",
   "name": "python",
   "nbconvert_exporter": "python",
   "pygments_lexer": "ipython3",
   "version": "3.6.13"
  }
 },
 "nbformat": 4,
 "nbformat_minor": 5
}
