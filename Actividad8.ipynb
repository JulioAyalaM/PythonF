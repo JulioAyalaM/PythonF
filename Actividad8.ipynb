{
 "cells": [
  {
   "cell_type": "markdown",
   "id": "12631dd6",
   "metadata": {},
   "source": [
    "# Hagamos un programa que determine si eres mayor de edad o  no"
   ]
  },
  {
   "cell_type": "code",
   "execution_count": 3,
   "id": "f5e91771",
   "metadata": {},
   "outputs": [
    {
     "name": "stdout",
     "output_type": "stream",
     "text": [
      "eres menor de edad\n"
     ]
    }
   ],
   "source": [
    "actualidad = 2022\n",
    "nacimiento = 2010\n",
    "\n",
    "if actualidad - nacimiento >=18:\n",
    "    print(\"eres mayor de edad\")\n",
    "else:\n",
    "    print(\"eres menor de edad\")\n"
   ]
  },
  {
   "cell_type": "code",
   "execution_count": null,
   "id": "6ffe7691",
   "metadata": {},
   "outputs": [],
   "source": []
  }
 ],
 "metadata": {
  "kernelspec": {
   "display_name": "Python 3",
   "language": "python",
   "name": "python3"
  },
  "language_info": {
   "codemirror_mode": {
    "name": "ipython",
    "version": 3
   },
   "file_extension": ".py",
   "mimetype": "text/x-python",
   "name": "python",
   "nbconvert_exporter": "python",
   "pygments_lexer": "ipython3",
   "version": "3.6.13"
  }
 },
 "nbformat": 4,
 "nbformat_minor": 5
}
