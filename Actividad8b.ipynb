{
 "cells": [
  {
   "cell_type": "markdown",
   "id": "49305ae2",
   "metadata": {},
   "source": [
    "# Pídale al usuario que ingrese dos números y muestre cuál de  los dos es menor. Considere el caso en el que ambos números  son iguales."
   ]
  },
  {
   "cell_type": "code",
   "execution_count": 7,
   "id": "5e8d7595",
   "metadata": {},
   "outputs": [
    {
     "name": "stdout",
     "output_type": "stream",
     "text": [
      "Ingrese el primer numero 10\n",
      "Ingrese el segundo numero 5\n",
      "El numero menor es 5 \n"
     ]
    }
   ],
   "source": [
    "numero1 = int( input (\"Ingrese el primer numero \") )\n",
    "numero2 = int( input (\"Ingrese el segundo numero \") )\n",
    "menor = 0\n",
    "\n",
    "if numero1 > numero2:\n",
    "    menor = numero2\n",
    "elif numero2 > numero1:\n",
    "    menor = numero1\n",
    "else:\n",
    "    menor = 0 # son iguales\n",
    "      \n",
    "if menor != 0:\n",
    "    print(\"El numero menor es {0} \" .format(menor) )\n",
    "else:\n",
    "    print(\"Los numero son iguales \" )\n"
   ]
  },
  {
   "cell_type": "code",
   "execution_count": null,
   "id": "386a6c8f",
   "metadata": {},
   "outputs": [],
   "source": []
  }
 ],
 "metadata": {
  "kernelspec": {
   "display_name": "Python 3",
   "language": "python",
   "name": "python3"
  },
  "language_info": {
   "codemirror_mode": {
    "name": "ipython",
    "version": 3
   },
   "file_extension": ".py",
   "mimetype": "text/x-python",
   "name": "python",
   "nbconvert_exporter": "python",
   "pygments_lexer": "ipython3",
   "version": "3.6.13"
  }
 },
 "nbformat": 4,
 "nbformat_minor": 5
}
