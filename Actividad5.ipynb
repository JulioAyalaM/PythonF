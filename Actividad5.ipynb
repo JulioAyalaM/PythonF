{
 "cells": [
  {
   "cell_type": "markdown",
   "id": "214dc76d",
   "metadata": {},
   "source": [
    "# 1.-El doble de mi edad tiene 24 años, ¿cuántos años tengo?\n"
   ]
  },
  {
   "cell_type": "code",
   "execution_count": 12,
   "id": "3334220d",
   "metadata": {},
   "outputs": [],
   "source": [
    "miEdad = 24/2"
   ]
  },
  {
   "cell_type": "code",
   "execution_count": 13,
   "id": "a377f907",
   "metadata": {
    "scrolled": true
   },
   "outputs": [
    {
     "data": {
      "text/plain": [
       "12.0"
      ]
     },
     "execution_count": 13,
     "metadata": {},
     "output_type": "execute_result"
    }
   ],
   "source": [
    "miEdad"
   ]
  },
  {
   "cell_type": "markdown",
   "id": "7743b06a",
   "metadata": {},
   "source": [
    "# 2.- A un tercio de la edad de mi hermana le disminuyo 15 años. Tengo 6 años. ¿Qué edad tiene?"
   ]
  },
  {
   "cell_type": "code",
   "execution_count": 14,
   "id": "78d4ca7f",
   "metadata": {
    "scrolled": true
   },
   "outputs": [
    {
     "data": {
      "text/plain": [
       "63"
      ]
     },
     "execution_count": 14,
     "metadata": {},
     "output_type": "execute_result"
    }
   ],
   "source": [
    "miEdad = 6\n",
    "tercio = 6+15\n",
    "hermanaEdad= tercio * 3\n",
    "hermanaEdad"
   ]
  },
  {
   "cell_type": "markdown",
   "id": "57dc1097",
   "metadata": {},
   "source": [
    "# 3.-Determina quién es más grande."
   ]
  },
  {
   "cell_type": "code",
   "execution_count": 15,
   "id": "86ac4832",
   "metadata": {},
   "outputs": [
    {
     "name": "stdout",
     "output_type": "stream",
     "text": [
      "El mayor es mi hermana con 63 años\n"
     ]
    }
   ],
   "source": [
    "if miEdad > hermanaEdad:\n",
    "    print(\"El mayor soy yo con \", miedad, \" años\")\n",
    "else:\n",
    "    print(\"El mayor es mi hermana con\", hermanaEdad, \"años\")"
   ]
  }
 ],
 "metadata": {
  "kernelspec": {
   "display_name": "Python 3",
   "language": "python",
   "name": "python3"
  },
  "language_info": {
   "codemirror_mode": {
    "name": "ipython",
    "version": 3
   },
   "file_extension": ".py",
   "mimetype": "text/x-python",
   "name": "python",
   "nbconvert_exporter": "python",
   "pygments_lexer": "ipython3",
   "version": "3.6.13"
  }
 },
 "nbformat": 4,
 "nbformat_minor": 5
}
