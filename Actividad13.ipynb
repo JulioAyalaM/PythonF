{
 "cells": [
  {
   "cell_type": "markdown",
   "id": "3f6609bf",
   "metadata": {},
   "source": [
    "# 1.\tCrear una calculadora con al menos 4 operaciones básicas   "
   ]
  },
  {
   "cell_type": "code",
   "execution_count": null,
   "id": "1b83c107",
   "metadata": {},
   "outputs": [],
   "source": [
    "class calculadora:\n",
    "    #atributos\n",
    "    Marca=\"Casio\"\n",
    "    Color=\"Negro\"\n",
    "    \n",
    "    def suma(self, a, b ):\n",
    "        return a+b\n",
    "    \n",
    "    def resta(self, a, b):\n",
    "        return a-b\n",
    "    \n",
    "    def multiplica(self, a ,b):\n",
    "        return a*b\n",
    "    \n",
    "    def division(self, a, b):\n",
    "        return a/b"
   ]
  },
  {
   "cell_type": "code",
   "execution_count": 21,
   "id": "0c21988a",
   "metadata": {},
   "outputs": [
    {
     "data": {
      "text/plain": [
       "20"
      ]
     },
     "execution_count": 21,
     "metadata": {},
     "output_type": "execute_result"
    }
   ],
   "source": [
    "calculadora().suma(10 , 10)"
   ]
  },
  {
   "cell_type": "code",
   "execution_count": 22,
   "id": "28f3721c",
   "metadata": {},
   "outputs": [
    {
     "data": {
      "text/plain": [
       "5"
      ]
     },
     "execution_count": 22,
     "metadata": {},
     "output_type": "execute_result"
    }
   ],
   "source": [
    "calculadora().resta(10 , 5)"
   ]
  },
  {
   "cell_type": "code",
   "execution_count": 23,
   "id": "0793c008",
   "metadata": {},
   "outputs": [
    {
     "data": {
      "text/plain": [
       "50"
      ]
     },
     "execution_count": 23,
     "metadata": {},
     "output_type": "execute_result"
    }
   ],
   "source": [
    "calculadora().multiplica(10 , 5)"
   ]
  },
  {
   "cell_type": "code",
   "execution_count": 24,
   "id": "a19272f3",
   "metadata": {},
   "outputs": [
    {
     "data": {
      "text/plain": [
       "2.0"
      ]
     },
     "execution_count": 24,
     "metadata": {},
     "output_type": "execute_result"
    }
   ],
   "source": [
    "calculadora().division(10 , 5)"
   ]
  },
  {
   "cell_type": "markdown",
   "id": "29b8c15d",
   "metadata": {},
   "source": [
    "# ACTIVIDAD AVANZADA"
   ]
  },
  {
   "cell_type": "code",
   "execution_count": 35,
   "id": "0f889ee8",
   "metadata": {},
   "outputs": [],
   "source": [
    "### Crear una calculadora con al menos 4 operaciones básicas + raíz cuadrada y elevar a una potencia. \n",
    "### Definiendo una clase \"calculadora\", la cual debe contener las operaciones básicas y definiendo una \n",
    "### clase hijo \"calculadora_avanzada\" que herede parámetros de \"calculadora\" y efectúe la raíz cuadrada y potencia.\n",
    "\n",
    "import math as cm\n",
    "\n",
    "class calculadora_avanzada(calculadora):\n",
    "    \n",
    "    #podemos definir un constructor para esta clase, pero para el ejemplo no es necesario\n",
    "    \n",
    "\n",
    "    def raiz(self, a ):\n",
    "        return cm.sqrt(a)\n",
    "    \n",
    "    def potencia(self, base, exponente):\n",
    "        return cm.pow(base,exponente)\n"
   ]
  },
  {
   "cell_type": "code",
   "execution_count": 36,
   "id": "d16c5ef6",
   "metadata": {},
   "outputs": [
    {
     "data": {
      "text/plain": [
       "3.0"
      ]
     },
     "execution_count": 36,
     "metadata": {},
     "output_type": "execute_result"
    }
   ],
   "source": [
    "calculadora_avanzada().raiz(9)"
   ]
  },
  {
   "cell_type": "code",
   "execution_count": 37,
   "id": "23b7c7c1",
   "metadata": {},
   "outputs": [
    {
     "data": {
      "text/plain": [
       "27.0"
      ]
     },
     "execution_count": 37,
     "metadata": {},
     "output_type": "execute_result"
    }
   ],
   "source": [
    "calculadora_avanzada().potencia(3,3)"
   ]
  },
  {
   "cell_type": "code",
   "execution_count": 38,
   "id": "855415e5",
   "metadata": {},
   "outputs": [
    {
     "data": {
      "text/plain": [
       "11"
      ]
     },
     "execution_count": 38,
     "metadata": {},
     "output_type": "execute_result"
    }
   ],
   "source": [
    "# Validamos que se heredaron los metodos de la clase padre, sin tener que definirlos en la clase hija.\n",
    "calculadora_avanzada().suma(5,6)"
   ]
  },
  {
   "cell_type": "code",
   "execution_count": 39,
   "id": "ab4b3fde",
   "metadata": {},
   "outputs": [
    {
     "data": {
      "text/plain": [
       "9"
      ]
     },
     "execution_count": 39,
     "metadata": {},
     "output_type": "execute_result"
    }
   ],
   "source": [
    "calculadora_avanzada().resta(15,6)"
   ]
  },
  {
   "cell_type": "code",
   "execution_count": 43,
   "id": "d9892283",
   "metadata": {},
   "outputs": [
    {
     "data": {
      "text/plain": [
       "18"
      ]
     },
     "execution_count": 43,
     "metadata": {},
     "output_type": "execute_result"
    }
   ],
   "source": [
    "calculadora_avanzada().multiplica(3,6)"
   ]
  },
  {
   "cell_type": "code",
   "execution_count": 44,
   "id": "2bba7ca4",
   "metadata": {},
   "outputs": [
    {
     "data": {
      "text/plain": [
       "1.0"
      ]
     },
     "execution_count": 44,
     "metadata": {},
     "output_type": "execute_result"
    }
   ],
   "source": [
    "calculadora_avanzada().division(3,3)"
   ]
  },
  {
   "cell_type": "code",
   "execution_count": 45,
   "id": "4bbd3b01",
   "metadata": {},
   "outputs": [
    {
     "data": {
      "text/plain": [
       "'Casio'"
      ]
     },
     "execution_count": 45,
     "metadata": {},
     "output_type": "execute_result"
    }
   ],
   "source": [
    "#En este caso como no se trabaja con constructor, la calculadora avanzada tomará exactamente los mismos atributos de la clase padre\n",
    "calculadora_avanzada().Marca"
   ]
  },
  {
   "cell_type": "code",
   "execution_count": null,
   "id": "b1c6429b",
   "metadata": {},
   "outputs": [],
   "source": []
  }
 ],
 "metadata": {
  "kernelspec": {
   "display_name": "Python 3",
   "language": "python",
   "name": "python3"
  },
  "language_info": {
   "codemirror_mode": {
    "name": "ipython",
    "version": 3
   },
   "file_extension": ".py",
   "mimetype": "text/x-python",
   "name": "python",
   "nbconvert_exporter": "python",
   "pygments_lexer": "ipython3",
   "version": "3.6.13"
  }
 },
 "nbformat": 4,
 "nbformat_minor": 5
}
