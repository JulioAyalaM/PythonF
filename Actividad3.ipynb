{
 "cells": [
  {
   "cell_type": "markdown",
   "id": "b82b79ee",
   "metadata": {},
   "source": [
    "## 1.- Crea un vector con valores dentro del rango 3 a el número que  representa tu edad."
   ]
  },
  {
   "cell_type": "code",
   "execution_count": 2,
   "id": "b481ce68",
   "metadata": {},
   "outputs": [
    {
     "data": {
      "text/plain": [
       "array([ 3,  4,  5,  6,  7,  8,  9, 10, 11, 12, 13, 14, 15, 16, 17, 18, 19,\n",
       "       20, 21, 22, 23, 24, 25, 26, 27, 28, 29, 30, 31, 32, 33, 34, 35])"
      ]
     },
     "execution_count": 2,
     "metadata": {},
     "output_type": "execute_result"
    }
   ],
   "source": [
    "import numpy as np\n",
    "\n",
    "rangoEdad = np.array(range(3,36))\n",
    "\n",
    "rangoEdad\n"
   ]
  },
  {
   "cell_type": "markdown",
   "id": "c192188b",
   "metadata": {},
   "source": [
    "## 2.- Crea un arreglo con los siguientes elementos:[0, 1, 2, 3, 4, 0, 1, 2, 3, 4]"
   ]
  },
  {
   "cell_type": "code",
   "execution_count": 3,
   "id": "e14edf58",
   "metadata": {},
   "outputs": [
    {
     "data": {
      "text/plain": [
       "array([0, 1, 2, 3, 4, 0, 1, 2, 3, 4])"
      ]
     },
     "execution_count": 3,
     "metadata": {},
     "output_type": "execute_result"
    }
   ],
   "source": [
    "arrayElems = np.array([0, 1, 2, 3, 4, 0, 1, 2, 3, 4])\n",
    "\n",
    "arrayElems"
   ]
  },
  {
   "cell_type": "markdown",
   "id": "a4e81209",
   "metadata": {},
   "source": [
    "## 3.- Ordena de forma ascendiente dicho arreglo."
   ]
  },
  {
   "cell_type": "code",
   "execution_count": 4,
   "id": "e4a0e1d9",
   "metadata": {},
   "outputs": [
    {
     "data": {
      "text/plain": [
       "array([0, 0, 1, 1, 2, 2, 3, 3, 4, 4])"
      ]
     },
     "execution_count": 4,
     "metadata": {},
     "output_type": "execute_result"
    }
   ],
   "source": [
    "arrayElems.sort()\n",
    "\n",
    "arrayElems"
   ]
  },
  {
   "cell_type": "code",
   "execution_count": null,
   "id": "ac6bb779",
   "metadata": {},
   "outputs": [],
   "source": []
  }
 ],
 "metadata": {
  "kernelspec": {
   "display_name": "Python 3",
   "language": "python",
   "name": "python3"
  },
  "language_info": {
   "codemirror_mode": {
    "name": "ipython",
    "version": 3
   },
   "file_extension": ".py",
   "mimetype": "text/x-python",
   "name": "python",
   "nbconvert_exporter": "python",
   "pygments_lexer": "ipython3",
   "version": "3.6.13"
  }
 },
 "nbformat": 4,
 "nbformat_minor": 5
}
