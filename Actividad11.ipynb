{
 "cells": [
  {
   "cell_type": "markdown",
   "id": "d5dbaee4",
   "metadata": {},
   "source": [
    "# Crea una función en la cual recibas como argumentos los  parámetros de una función cuadrática, y te regrese x1 y x2.\n",
    "\n",
    "\n",
    "Formula General"
   ]
  },
  {
   "cell_type": "code",
   "execution_count": 1,
   "id": "c39aa420",
   "metadata": {},
   "outputs": [
    {
     "name": "stdout",
     "output_type": "stream",
     "text": [
      "Escriba el valor del primer parametro: 2\n",
      "Escriba el valor del segundo parametro: 4\n",
      "Escriba el valor del tercer parametro: 6\n"
     ]
    }
   ],
   "source": [
    "import cmath\n",
    "\n",
    "a=float(input(\"Escriba el valor del primer parametro: \"))\n",
    "b=float(input(\"Escriba el valor del segundo parametro: \"))\n",
    "c=float(input(\"Escriba el valor del tercer parametro: \"))"
   ]
  },
  {
   "cell_type": "code",
   "execution_count": 2,
   "id": "9a4c233a",
   "metadata": {},
   "outputs": [
    {
     "name": "stdout",
     "output_type": "stream",
     "text": [
      "El valor de x1 es  (-1+1.4142135623730951j)\n",
      "El valor de x2 es  (-1-1.4142135623730951j)\n"
     ]
    }
   ],
   "source": [
    "x1 = (-b+cmath.sqrt((b**2)-(4*a*c)))/(2*a)\n",
    "x2 = (-b-cmath.sqrt((b**2)-(4*a*c)))/(2*a)\n",
    "\n",
    "print(\"El valor de x1 es \", x1)\n",
    "print(\"El valor de x2 es \", x2)"
   ]
  }
 ],
 "metadata": {
  "kernelspec": {
   "display_name": "Python 3",
   "language": "python",
   "name": "python3"
  },
  "language_info": {
   "codemirror_mode": {
    "name": "ipython",
    "version": 3
   },
   "file_extension": ".py",
   "mimetype": "text/x-python",
   "name": "python",
   "nbconvert_exporter": "python",
   "pygments_lexer": "ipython3",
   "version": "3.6.13"
  }
 },
 "nbformat": 4,
 "nbformat_minor": 5
}
