{
 "cells": [
  {
   "cell_type": "markdown",
   "id": "3308ece0",
   "metadata": {},
   "source": [
    "# Analisis de visitas - modelos de gestión"
   ]
  },
  {
   "cell_type": "code",
   "execution_count": 1,
   "id": "45d75090",
   "metadata": {},
   "outputs": [],
   "source": [
    "import pandas as pd\n",
    "import numpy as np\n",
    "import matplotlib.pyplot as plt\n",
    "\n",
    "\n",
    "def cargarMenu():\n",
    "        opcion = int(input(\"\"\"Ingrese la opcion a analizar:\n",
    "        4-.Acompañamientos\n",
    "        35.-Visita  a cliente\n",
    "        0 - Salir\\n \"\"\"))\n",
    "        \n",
    "        if opcion != 0:\n",
    "            mes = input(\"Ingrese el mes a analizar\")\n",
    "            regla = input(\"Ingrese la regla de negocio\")\n",
    "            return opcion,mes, regla\n",
    "        \n",
    "        return opcion,\"\",\"\"\n",
    "\n",
    "def subMenu():\n",
    "    print(\"Seleccione la opcion a analizar\")\n",
    "    return input(\"\"\"1.- Obtener las rutas/clientes que se visitaron menos que la regla de negocio\n",
    "2.- Obtener las rutas que se visitaron MAS O IGUAL que la regla de negocio\n",
    "3.- Obtener los MM que cumplen con la regla de negocio\\n\"\"\")\n"
   ]
  },
  {
   "cell_type": "code",
   "execution_count": 2,
   "id": "a482f50e",
   "metadata": {},
   "outputs": [],
   "source": [
    "def cargarArchivo(opcion, mes):\n",
    "        return pd.read_csv(\"C:\\\\Users\\\\juayala\\\\Documents\\\\CursoPython\\\\schedules\" + str(opcion) + mes + \".csv\")"
   ]
  },
  {
   "cell_type": "code",
   "execution_count": 3,
   "id": "da97aa07",
   "metadata": {},
   "outputs": [],
   "source": [
    "\n",
    "def analizar(tipo, data, regla):\n",
    "    \n",
    "#agrupados = datos.groupby(['customer'],as_index=False).idSchedul.count().sort_values(by='idSchedul',ascending=False).head(10)\n",
    "        \n",
    "    #Menos visitas\n",
    "    if int(tipo) == (1 or 3):\n",
    "        data = data[data[\"idSchedul\"] < int(regla) ]\n",
    "        \n",
    "    #Mayor o igual a las visitas\n",
    "    elif int(tipo) == (2 or 4):\n",
    "        data = data[data[\"idSchedul\"] >= int(regla) ]\n",
    "        \n",
    "    if data.shape[0] > 0:  #si el dataframe tiene rows \n",
    "        #Crear la grafica\n",
    "        print(\"Aqui va la grafica\")\n",
    "        print(data.head())\n",
    "        #data.set_index('routeSchedule',inplace=True)\n",
    "        data[\"idSchedul\"].plot(kind='bar')\n",
    "        #plt.plot(data[\"idSchedul\"])\n",
    "    else:\n",
    "        print(\"No se encontraron datos\")\n",
    "        "
   ]
  },
  {
   "cell_type": "code",
   "execution_count": 5,
   "id": "02c321cc",
   "metadata": {},
   "outputs": [
    {
     "name": "stdout",
     "output_type": "stream",
     "text": [
      "Ingrese la opcion a analizar:\n",
      "        4-.Acompañamientos\n",
      "        35.-Visita  a cliente\n",
      "        0 - Salir\n",
      " 35\n",
      "Ingrese el mes a analizarAgosto\n",
      "Ingrese la regla de negocio10\n",
      "Seleccione la opcion a analizar\n",
      "1.- Obtener las rutas/clientes que se visitaron menos que la regla de negocio\n",
      "2.- Obtener las rutas que se visitaron MAS O IGUAL que la regla de negocio\n",
      "3.- Obtener los MM que cumplen con la regla de negocio\n",
      "2\n",
      "          idSchedul  employee\n",
      "customer                     \n",
      "310904           12        12\n",
      "315898           12        12\n",
      "313340           11        11\n",
      "315877           10        10\n",
      "459793           10        10\n",
      "Aqui va la grafica\n",
      "          idSchedul  employee\n",
      "customer                     \n",
      "310904           12        12\n",
      "315898           12        12\n",
      "313340           11        11\n",
      "315877           10        10\n",
      "459793           10        10\n",
      "Ingrese la opcion a analizar:\n",
      "        4-.Acompañamientos\n",
      "        35.-Visita  a cliente\n",
      "        0 - Salir\n",
      " 0\n"
     ]
    },
    {
     "data": {
      "image/png": "[encoded data removed]",
      "text/plain": [
       "<Figure size 432x288 with 1 Axes>"
      ]
     },
     "metadata": {
      "needs_background": "light"
     },
     "output_type": "display_data"
    }
   ],
   "source": [
    "Salir=\"\"\n",
    "\n",
    "while(Salir!=0):\n",
    "\n",
    "    optionSelected,mesSelected,regla = cargarMenu()\n",
    "    \n",
    "    if optionSelected == 0:\n",
    "        Salir=0\n",
    "        break\n",
    "    \n",
    "    datos = cargarArchivo(optionSelected, mesSelected)\n",
    "    tipoAnalisis=0\n",
    "    \n",
    "    if optionSelected == 4:\n",
    "        filtrado = datos[[\"idSchedul\",'routeSchedule','employee']]\n",
    "        #Analisis de visita por ruta\n",
    "        tipoAnalisis = subMenu()\n",
    "        if tipoAnalisis !=3:\n",
    "            \n",
    "            agrupados = filtrado.groupby(['routeSchedule'],as_index=True).count().sort_values(by='idSchedul',ascending=False)\n",
    "        else:\n",
    "            agrupados = filtrado.groupby(['employee'],as_index=True).count().sort_values(by='idSchedul',ascending=False)\n",
    "        \n",
    "        analizar(tipoAnalisis, agrupados, regla)\n",
    "\n",
    "\n",
    "    elif optionSelected == 35:\n",
    "        filtrado = datos[[\"idSchedul\",'customer','employee']]\n",
    "        #Analisis de visita por cliente\n",
    "        tipoAnalisis = subMenu()\n",
    "\n",
    "        if tipoAnalisis !=3:\n",
    "            agrupados = filtrado.groupby(['customer'],as_index=True).count().sort_values(by='idSchedul',ascending=False)\n",
    "            print(agrupados.head())\n",
    "        else:\n",
    "            agrupados = filtrado.groupby(['employee'],as_index=True).count().sort_values(by='idSchedul',ascending=False)\n",
    "        \n",
    "        analizar(int(tipoAnalisis), agrupados, regla)\n",
    "      \n",
    "    else:\n",
    "        print(\"Opcion incorrecta, por favor verifique!\")"
   ]
  },
  {
   "cell_type": "code",
   "execution_count": null,
   "id": "4d223a9d",
   "metadata": {},
   "outputs": [],
   "source": []
  }
 ],
 "metadata": {
  "kernelspec": {
   "display_name": "Python 3",
   "language": "python",
   "name": "python3"
  },
  "language_info": {
   "codemirror_mode": {
    "name": "ipython",
    "version": 3
   },
   "file_extension": ".py",
   "mimetype": "text/x-python",
   "name": "python",
   "nbconvert_exporter": "python",
   "pygments_lexer": "ipython3",
   "version": "3.6.13"
  }
 },
 "nbformat": 4,
 "nbformat_minor": 5
}
