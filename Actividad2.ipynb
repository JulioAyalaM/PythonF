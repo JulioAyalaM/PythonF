{
 "cells": [
  {
   "cell_type": "markdown",
   "id": "09e54fd1",
   "metadata": {},
   "source": [
    "#### 1.- Crea una tupla con una longitud de 5. usando diferentes tipos de datos."
   ]
  },
  {
   "cell_type": "code",
   "execution_count": 70,
   "id": "067b0df9",
   "metadata": {},
   "outputs": [
    {
     "data": {
      "text/plain": [
       "('Perro', 'Negro', 4, 8.0, True)"
      ]
     },
     "execution_count": 70,
     "metadata": {},
     "output_type": "execute_result"
    }
   ],
   "source": [
    "miTupla = (\"Perro\",\"Negro\", 4 , 8.0, True )\n",
    "\n",
    "#reviso contenido de Mitupla\n",
    "miTupla"
   ]
  },
  {
   "cell_type": "markdown",
   "id": "92af8751",
   "metadata": {},
   "source": [
    "#### 2.- Cambiar la tupla a lista"
   ]
  },
  {
   "cell_type": "code",
   "execution_count": 71,
   "id": "d2abece9",
   "metadata": {
    "scrolled": false
   },
   "outputs": [
    {
     "data": {
      "text/plain": [
       "['Perro', 'Negro', 4, 8.0, True]"
      ]
     },
     "execution_count": 71,
     "metadata": {},
     "output_type": "execute_result"
    }
   ],
   "source": [
    "miLista = list( miTupla ) #conversión a Lista\n",
    "\n",
    "#reviso contenido de miLista\n",
    "miLista"
   ]
  },
  {
   "cell_type": "markdown",
   "id": "76b94045",
   "metadata": {},
   "source": [
    "#### 3.- Crea un diccionario donde la clave sea del 1 al 5 y los elementos los  datos de la lista"
   ]
  },
  {
   "cell_type": "code",
   "execution_count": 72,
   "id": "9d7e3b98",
   "metadata": {},
   "outputs": [
    {
     "data": {
      "text/plain": [
       "{1: None, 2: None, 3: None, 4: None, 5: None}"
      ]
     },
     "execution_count": 72,
     "metadata": {},
     "output_type": "execute_result"
    }
   ],
   "source": [
    "claves = [1,2,3,4,5]\n",
    "\n",
    "diccionario = dict.fromkeys(claves)\n",
    "\n",
    "#reviso Valores de diccionario\n",
    "diccionario"
   ]
  },
  {
   "cell_type": "code",
   "execution_count": 73,
   "id": "d03b7fcd",
   "metadata": {},
   "outputs": [],
   "source": [
    "#Ciclo para actualizar valores del diccionario\n",
    "for i in range(1,6):\n",
    "    diccionario[i] = miLista[i-1]"
   ]
  },
  {
   "cell_type": "code",
   "execution_count": 74,
   "id": "4ace13df",
   "metadata": {},
   "outputs": [
    {
     "data": {
      "text/plain": [
       "{1: 'Perro', 2: 'Negro', 3: 4, 4: 8.0, 5: True}"
      ]
     },
     "execution_count": 74,
     "metadata": {},
     "output_type": "execute_result"
    }
   ],
   "source": [
    "#Contenido final del diccionario\n",
    "diccionario"
   ]
  }
 ],
 "metadata": {
  "kernelspec": {
   "display_name": "Python 3",
   "language": "python",
   "name": "python3"
  },
  "language_info": {
   "codemirror_mode": {
    "name": "ipython",
    "version": 3
   },
   "file_extension": ".py",
   "mimetype": "text/x-python",
   "name": "python",
   "nbconvert_exporter": "python",
   "pygments_lexer": "ipython3",
   "version": "3.6.13"
  }
 },
 "nbformat": 4,
 "nbformat_minor": 5
}
